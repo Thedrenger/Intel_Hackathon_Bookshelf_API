from django.contrib import admin
from .models import Bookshelf, Spine, Book

# Import necessary modules for integrating Intel DPT 3.1 (MiDaS) models
from intel_dpt_midas.models import IntelDPTModel1, IntelDPTModel2  # Import the necessary Intel DPT 3.1 (MiDaS) models

# Register your models here.
admin.site.register(Bookshelf)
admin.site.register(Spine)
admin.site.register(Book)

# Register Intel DPT 3.1 (MiDaS) models with custom admin interface
admin.site.register(IntelDPTModel1)
admin.site.register(IntelDPTModel2)

