from django.apps import AppConfig

# Import necessary modules for integrating Intel DPT 3.1 (MiDaS) models
from intel_dpt_midas.models import IntelDPTModel1, IntelDPTModel2  # Import the necessary Intel DPT 3.1 (MiDaS) models

class DetectSpinesConfig(AppConfig):
    name = 'detect_spines'

    def ready(self):
        # Register Intel DPT 3.1 (MiDaS) models with the AppConfig ready method
        from django.contrib import admin
        admin.site.register(IntelDPTModel1)
        admin.site.register(IntelDPTModel2)

