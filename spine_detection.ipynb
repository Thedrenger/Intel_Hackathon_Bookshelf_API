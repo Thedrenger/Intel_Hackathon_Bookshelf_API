from io import BytesIO
from PIL import Image
import numpy as np
import cv2
import math

# Load OpenVINO Inference Engine
from openvino.inference_engine import IECore

# Initialize OpenVINO Inference Engine
ie = IECore()

# Load Hough Lines Detection Model using OpenVINO
hough_lines_model_xml = "path/to/hough_lines_detection_model.xml"
hough_lines_model_bin = "path/to/hough_lines_detection_model.bin"
hough_lines_net = ie.read_network(model=hough_lines_model_xml, weights=hough_lines_model_bin)

# Load Canny Edge Detection Model using OpenVINO
canny_edge_model_xml = "path/to/canny_edge_detection_model.xml"
canny_edge_model_bin = "path/to/canny_edge_detection_model.bin"
canny_edge_net = ie.read_network(model=canny_edge_model_xml, weights=canny_edge_model_bin)

# Load Erosion Model using OpenVINO
erosion_model_xml = "path/to/erosion_model.xml"
erosion_model_bin = "path/to/erosion_model.bin"
erosion_net = ie.read_network(model=erosion_model_xml, weights=erosion_model_bin)

# Initialize OpenVINO plugins for inference
exec_net_hough_lines = ie.load_network(network=hough_lines_net, device_name="CPU")
exec_net_canny_edge = ie.load_network(network=canny_edge_net, device_name="CPU")
exec_net_erosion = ie.load_network(network=erosion_net, device_name="CPU")

def get_image_extension(django_image):
    '''
    Returns image extension from a Django image
    '''
    pil_image = Image.open(django_image)
    return pil_image.format


def opencv_image_to_django_image(opencv_image, ext):
    opencv_image = cv2.cvtColor(opencv_image, cv2.COLOR_BGR2RGB)
    django_image = BytesIO()

    pil_image = Image.fromarray(opencv_image)
    pil_image.save(django_image, format=ext)

    return django_image


def detect_spines(img):
    '''
    Returns a list of lines separating
    the detected spines in the image
    '''
    height, width, _ = img.shape

    # Convert image to OpenVINO-compatible format
    blob = cv2.dnn.blobFromImage(img, size=(width, height), ddepth=cv2.CV_8U)
    
    # Perform Hough Lines Detection using OpenVINO
    hough_lines_out = exec_net_hough_lines.infer(inputs={exec_net_hough_lines.inputs["data"]: blob})
    lines = hough_lines_out["output"]

    # Process lines data to extract spine points
    # ...

    return final_points

def get_spines(django_image):
    img = django_image_to_opencv_image(django_image)
    ext = get_image_extension(django_image)

    final_image = resize_img(img)
    final_points = detect_spines(final_image)
    cropped_images = get_cropped_images(final_image, final_points)

    django_cropped_images = []
    for cropped_image in cropped_images:
        django_cropped_images.append(
            opencv_image_to_django_image(
                cropped_image,
                ext
            )
        )

    return django_cropped_images


def draw_spine_lines(django_image):
    img = django_image_to_opencv_image(django_image)
    ext = get_image_extension(django_image)

    final_image = resize_img(img)
    final_points = detect_spines(final_image)

    for point in final_points:
        ((x1, y1), (x2, y2)) = point
        final_image = cv2.line(final_image, (x1, y1), (x2, y2), (0, 0, 255), 10)

    django_image = opencv_image_to_django_image(
        final_image,
        ext
    )
    return django_image, ext
